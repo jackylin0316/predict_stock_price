{
 "cells": [
  {
   "cell_type": "code",
   "execution_count": 1,
   "id": "ae79e926",
   "metadata": {},
   "outputs": [],
   "source": [
    "import math\n",
    "import pandas_datareader as web\n",
    "import numpy as np\n",
    "import pandas as pd\n",
    "from sklearn.preprocessing import StandardScaler\n",
    "from keras.models import Sequential\n",
    "from keras.layers import Dense, LSTM, Dropout\n",
    "import matplotlib.pyplot as plt"
   ]
  },
  {
   "cell_type": "code",
   "execution_count": 2,
   "id": "72042661",
   "metadata": {},
   "outputs": [
    {
     "data": {
      "text/html": [
       "<div>\n",
       "<style scoped>\n",
       "    .dataframe tbody tr th:only-of-type {\n",
       "        vertical-align: middle;\n",
       "    }\n",
       "\n",
       "    .dataframe tbody tr th {\n",
       "        vertical-align: top;\n",
       "    }\n",
       "\n",
       "    .dataframe thead th {\n",
       "        text-align: right;\n",
       "    }\n",
       "</style>\n",
       "<table border=\"1\" class=\"dataframe\">\n",
       "  <thead>\n",
       "    <tr style=\"text-align: right;\">\n",
       "      <th></th>\n",
       "      <th>High</th>\n",
       "      <th>Low</th>\n",
       "      <th>Open</th>\n",
       "      <th>Close</th>\n",
       "      <th>Volume</th>\n",
       "      <th>Adj Close</th>\n",
       "    </tr>\n",
       "    <tr>\n",
       "      <th>Date</th>\n",
       "      <th></th>\n",
       "      <th></th>\n",
       "      <th></th>\n",
       "      <th></th>\n",
       "      <th></th>\n",
       "      <th></th>\n",
       "    </tr>\n",
       "  </thead>\n",
       "  <tbody>\n",
       "    <tr>\n",
       "      <th>2010-06-29</th>\n",
       "      <td>5.000000</td>\n",
       "      <td>3.508000</td>\n",
       "      <td>3.800000</td>\n",
       "      <td>4.778000</td>\n",
       "      <td>93831500.0</td>\n",
       "      <td>4.778000</td>\n",
       "    </tr>\n",
       "    <tr>\n",
       "      <th>2010-06-30</th>\n",
       "      <td>6.084000</td>\n",
       "      <td>4.660000</td>\n",
       "      <td>5.158000</td>\n",
       "      <td>4.766000</td>\n",
       "      <td>85935500.0</td>\n",
       "      <td>4.766000</td>\n",
       "    </tr>\n",
       "    <tr>\n",
       "      <th>2010-07-01</th>\n",
       "      <td>5.184000</td>\n",
       "      <td>4.054000</td>\n",
       "      <td>5.000000</td>\n",
       "      <td>4.392000</td>\n",
       "      <td>41094000.0</td>\n",
       "      <td>4.392000</td>\n",
       "    </tr>\n",
       "    <tr>\n",
       "      <th>2010-07-02</th>\n",
       "      <td>4.620000</td>\n",
       "      <td>3.742000</td>\n",
       "      <td>4.600000</td>\n",
       "      <td>3.840000</td>\n",
       "      <td>25699000.0</td>\n",
       "      <td>3.840000</td>\n",
       "    </tr>\n",
       "    <tr>\n",
       "      <th>2010-07-06</th>\n",
       "      <td>4.000000</td>\n",
       "      <td>3.166000</td>\n",
       "      <td>4.000000</td>\n",
       "      <td>3.222000</td>\n",
       "      <td>34334500.0</td>\n",
       "      <td>3.222000</td>\n",
       "    </tr>\n",
       "    <tr>\n",
       "      <th>...</th>\n",
       "      <td>...</td>\n",
       "      <td>...</td>\n",
       "      <td>...</td>\n",
       "      <td>...</td>\n",
       "      <td>...</td>\n",
       "      <td>...</td>\n",
       "    </tr>\n",
       "    <tr>\n",
       "      <th>2022-08-05</th>\n",
       "      <td>913.820007</td>\n",
       "      <td>856.630005</td>\n",
       "      <td>908.010010</td>\n",
       "      <td>864.510010</td>\n",
       "      <td>37655300.0</td>\n",
       "      <td>864.510010</td>\n",
       "    </tr>\n",
       "    <tr>\n",
       "      <th>2022-08-08</th>\n",
       "      <td>915.599976</td>\n",
       "      <td>867.260010</td>\n",
       "      <td>885.000000</td>\n",
       "      <td>871.270020</td>\n",
       "      <td>32998000.0</td>\n",
       "      <td>871.270020</td>\n",
       "    </tr>\n",
       "    <tr>\n",
       "      <th>2022-08-09</th>\n",
       "      <td>877.190002</td>\n",
       "      <td>838.059998</td>\n",
       "      <td>870.880005</td>\n",
       "      <td>850.000000</td>\n",
       "      <td>28748200.0</td>\n",
       "      <td>850.000000</td>\n",
       "    </tr>\n",
       "    <tr>\n",
       "      <th>2022-08-10</th>\n",
       "      <td>892.530029</td>\n",
       "      <td>850.109985</td>\n",
       "      <td>891.200012</td>\n",
       "      <td>883.070007</td>\n",
       "      <td>31639600.0</td>\n",
       "      <td>883.070007</td>\n",
       "    </tr>\n",
       "    <tr>\n",
       "      <th>2022-08-11</th>\n",
       "      <td>894.710022</td>\n",
       "      <td>857.500000</td>\n",
       "      <td>889.539978</td>\n",
       "      <td>859.890015</td>\n",
       "      <td>23095546.0</td>\n",
       "      <td>859.890015</td>\n",
       "    </tr>\n",
       "  </tbody>\n",
       "</table>\n",
       "<p>3052 rows × 6 columns</p>\n",
       "</div>"
      ],
      "text/plain": [
       "                  High         Low        Open       Close      Volume  \\\n",
       "Date                                                                     \n",
       "2010-06-29    5.000000    3.508000    3.800000    4.778000  93831500.0   \n",
       "2010-06-30    6.084000    4.660000    5.158000    4.766000  85935500.0   \n",
       "2010-07-01    5.184000    4.054000    5.000000    4.392000  41094000.0   \n",
       "2010-07-02    4.620000    3.742000    4.600000    3.840000  25699000.0   \n",
       "2010-07-06    4.000000    3.166000    4.000000    3.222000  34334500.0   \n",
       "...                ...         ...         ...         ...         ...   \n",
       "2022-08-05  913.820007  856.630005  908.010010  864.510010  37655300.0   \n",
       "2022-08-08  915.599976  867.260010  885.000000  871.270020  32998000.0   \n",
       "2022-08-09  877.190002  838.059998  870.880005  850.000000  28748200.0   \n",
       "2022-08-10  892.530029  850.109985  891.200012  883.070007  31639600.0   \n",
       "2022-08-11  894.710022  857.500000  889.539978  859.890015  23095546.0   \n",
       "\n",
       "             Adj Close  \n",
       "Date                    \n",
       "2010-06-29    4.778000  \n",
       "2010-06-30    4.766000  \n",
       "2010-07-01    4.392000  \n",
       "2010-07-02    3.840000  \n",
       "2010-07-06    3.222000  \n",
       "...                ...  \n",
       "2022-08-05  864.510010  \n",
       "2022-08-08  871.270020  \n",
       "2022-08-09  850.000000  \n",
       "2022-08-10  883.070007  \n",
       "2022-08-11  859.890015  \n",
       "\n",
       "[3052 rows x 6 columns]"
      ]
     },
     "execution_count": 2,
     "metadata": {},
     "output_type": "execute_result"
    }
   ],
   "source": [
    "import requests_cache\n",
    "\n",
    "session = requests_cache.CachedSession(cache_name='cache', backend='sqlite')\n",
    "\n",
    "# just add headers to your session and provide it to the reader\n",
    "session.headers = {'User-Agent': 'Mozilla/5.0 (X11; Ubuntu; Linux x86_64; rv:89.0) Gecko/20100101 Firefox/89.0',     'Accept': 'application/json;charset=utf-8'}\n",
    "\n",
    "\n",
    "df=web.DataReader('TSLA', data_source='yahoo', start='2010-01-01', end='2022-8-12', session=session)\n",
    "df"
   ]
  },
  {
   "cell_type": "code",
   "execution_count": 3,
   "id": "f9c4c227",
   "metadata": {},
   "outputs": [],
   "source": [
    "df['Date']=df.index\n",
    "df=df.reset_index(drop=True)\n",
    "df=df[['Date', 'Close']]"
   ]
  },
  {
   "cell_type": "code",
   "execution_count": 4,
   "id": "af9fa27e",
   "metadata": {},
   "outputs": [
    {
     "name": "stdout",
     "output_type": "stream",
     "text": [
      "<class 'pandas.core.frame.DataFrame'>\n",
      "RangeIndex: 3052 entries, 0 to 3051\n",
      "Data columns (total 2 columns):\n",
      " #   Column  Non-Null Count  Dtype         \n",
      "---  ------  --------------  -----         \n",
      " 0   Date    3052 non-null   datetime64[ns]\n",
      " 1   Close   3052 non-null   float64       \n",
      "dtypes: datetime64[ns](1), float64(1)\n",
      "memory usage: 47.8 KB\n"
     ]
    }
   ],
   "source": [
    "df.info()"
   ]
  },
  {
   "cell_type": "code",
   "execution_count": 5,
   "id": "4363ed87",
   "metadata": {},
   "outputs": [
    {
     "data": {
      "image/png": "[encoded data removed]",
      "text/plain": [
       "<Figure size 640x480 with 1 Axes>"
      ]
     },
     "metadata": {},
     "output_type": "display_data"
    }
   ],
   "source": [
    "plt.plot(df['Date'], df['Close'], color='#FF5151', label='TSLA')\n",
    "plt.xlabel('Date')\n",
    "plt.ylabel('Closed Price')\n",
    "plt.legend(loc='upper left')\n",
    "plt.show()"
   ]
  },
  {
   "cell_type": "code",
   "execution_count": 6,
   "id": "841d00cc",
   "metadata": {},
   "outputs": [
    {
     "data": {
      "text/plain": [
       "2441"
      ]
     },
     "execution_count": 6,
     "metadata": {},
     "output_type": "execute_result"
    }
   ],
   "source": [
    "data=df[['Close']]\n",
    "dataset=np.array(data)\n",
    "type(dataset)\n",
    "training_data_len=int(len(data)*0.8)\n",
    "training_data_len"
   ]
  },
  {
   "cell_type": "code",
   "execution_count": 7,
   "id": "9171a21b",
   "metadata": {
    "scrolled": true
   },
   "outputs": [
    {
     "data": {
      "text/plain": [
       "array([[-0.56614249],\n",
       "       [-0.56618616],\n",
       "       [-0.56754721],\n",
       "       ...,\n",
       "       [ 2.50976549],\n",
       "       [ 2.63011293],\n",
       "       [ 2.54575695]])"
      ]
     },
     "execution_count": 7,
     "metadata": {},
     "output_type": "execute_result"
    }
   ],
   "source": [
    "#Scale the data\n",
    "scaler=StandardScaler()\n",
    "scaled_data=scaler.fit_transform(dataset)\n",
    "scaled_data"
   ]
  },
  {
   "cell_type": "code",
   "execution_count": 8,
   "id": "3ee88f0b",
   "metadata": {},
   "outputs": [
    {
     "data": {
      "text/plain": [
       "(3052, 1)"
      ]
     },
     "execution_count": 8,
     "metadata": {},
     "output_type": "execute_result"
    }
   ],
   "source": [
    "scaled_data.shape"
   ]
  },
  {
   "cell_type": "code",
   "execution_count": 9,
   "id": "00fd153d",
   "metadata": {},
   "outputs": [
    {
     "name": "stdout",
     "output_type": "stream",
     "text": [
      "X_train.shape is (2381, 60, 1)\n",
      "y_train.shape is (2381, 1)\n"
     ]
    }
   ],
   "source": [
    "#Create training dataset\n",
    "train_data=scaled_data[:training_data_len,:]\n",
    "X_train=[]\n",
    "y_train=[]\n",
    "\n",
    "for i in range(60, training_data_len):\n",
    "    X_train.append(train_data[i-60:i])\n",
    "    y_train.append(train_data[i])\n",
    "X_train=np.array(X_train)\n",
    "y_train=np.array(y_train)\n",
    "print(f\"X_train.shape is {X_train.shape}\")\n",
    "print(f\"y_train.shape is {y_train.shape}\")"
   ]
  },
  {
   "cell_type": "code",
   "execution_count": 22,
   "id": "d3d295b0",
   "metadata": {},
   "outputs": [],
   "source": [
    "model=Sequential()\n",
    "model.add(LSTM(units=50, return_sequences=True, input_shape=(X_train.shape[1],1)))\n",
    "model.add(Dropout(0.1))\n",
    "model.add(LSTM(units=50, return_sequences=True))\n",
    "model.add(Dropout(0.1))\n",
    "model.add(LSTM(units=50, return_sequences=False))\n",
    "model.add(Dropout(0.1))\n",
    "model.add(Dense(units=1))"
   ]
  },
  {
   "cell_type": "code",
   "execution_count": 23,
   "id": "99cebf45",
   "metadata": {},
   "outputs": [
    {
     "name": "stdout",
     "output_type": "stream",
     "text": [
      "Model: \"sequential_1\"\n",
      "_________________________________________________________________\n",
      " Layer (type)                Output Shape              Param #   \n",
      "=================================================================\n",
      " lstm_3 (LSTM)               (None, 60, 50)            10400     \n",
      "                                                                 \n",
      " dropout_3 (Dropout)         (None, 60, 50)            0         \n",
      "                                                                 \n",
      " lstm_4 (LSTM)               (None, 60, 50)            20200     \n",
      "                                                                 \n",
      " dropout_4 (Dropout)         (None, 60, 50)            0         \n",
      "                                                                 \n",
      " lstm_5 (LSTM)               (None, 50)                20200     \n",
      "                                                                 \n",
      " dropout_5 (Dropout)         (None, 50)                0         \n",
      "                                                                 \n",
      " dense_1 (Dense)             (None, 1)                 51        \n",
      "                                                                 \n",
      "=================================================================\n",
      "Total params: 50,851\n",
      "Trainable params: 50,851\n",
      "Non-trainable params: 0\n",
      "_________________________________________________________________\n"
     ]
    }
   ],
   "source": [
    "model.summary()"
   ]
  },
  {
   "cell_type": "code",
   "execution_count": 24,
   "id": "0d62f82e",
   "metadata": {},
   "outputs": [],
   "source": [
    "model.compile(optimizer='adam', loss='mean_squared_error')"
   ]
  },
  {
   "cell_type": "code",
   "execution_count": 25,
   "id": "53401e41",
   "metadata": {},
   "outputs": [
    {
     "name": "stdout",
     "output_type": "stream",
     "text": [
      "Epoch 1/10\n",
      "75/75 [==============================] - 6s 36ms/step - loss: 0.0104\n",
      "Epoch 2/10\n",
      "75/75 [==============================] - 3s 36ms/step - loss: 0.0014\n",
      "Epoch 3/10\n",
      "75/75 [==============================] - 3s 36ms/step - loss: 0.0012\n",
      "Epoch 4/10\n",
      "75/75 [==============================] - 3s 36ms/step - loss: 0.0011\n",
      "Epoch 5/10\n",
      "75/75 [==============================] - 3s 37ms/step - loss: 0.0010\n",
      "Epoch 6/10\n",
      "75/75 [==============================] - 3s 37ms/step - loss: 9.7371e-04\n",
      "Epoch 7/10\n",
      "75/75 [==============================] - 3s 36ms/step - loss: 9.2092e-04\n",
      "Epoch 8/10\n",
      "75/75 [==============================] - 3s 36ms/step - loss: 9.8290e-04\n",
      "Epoch 9/10\n",
      "75/75 [==============================] - 3s 36ms/step - loss: 8.7965e-04\n",
      "Epoch 10/10\n",
      "75/75 [==============================] - 3s 37ms/step - loss: 8.5119e-04\n"
     ]
    },
    {
     "data": {
      "text/plain": [
       "<keras.callbacks.History at 0x7fe2c3332310>"
      ]
     },
     "execution_count": 25,
     "metadata": {},
     "output_type": "execute_result"
    }
   ],
   "source": [
    "model.fit(X_train, y_train, batch_size=32, epochs=10)"
   ]
  },
  {
   "cell_type": "code",
   "execution_count": 14,
   "id": "7bf574b7",
   "metadata": {},
   "outputs": [
    {
     "name": "stdout",
     "output_type": "stream",
     "text": [
      "(611, 60, 1)\n"
     ]
    }
   ],
   "source": [
    "X_test=[]\n",
    "y_test=dataset[training_data_len:]\n",
    "for i in range(training_data_len, len(dataset)):\n",
    "    X_test.append(scaled_data[i-60:i])\n",
    "X_test=np.array(X_test)\n",
    "print(X_test.shape)"
   ]
  },
  {
   "cell_type": "code",
   "execution_count": 26,
   "id": "3bf609bd",
   "metadata": {},
   "outputs": [
    {
     "data": {
      "text/plain": [
       "numpy.ndarray"
      ]
     },
     "execution_count": 26,
     "metadata": {},
     "output_type": "execute_result"
    }
   ],
   "source": [
    "predictions=model.predict(X_test)\n",
    "predictions=scaler.inverse_transform(predictions)\n",
    "type(predictions)"
   ]
  },
  {
   "cell_type": "code",
   "execution_count": 29,
   "id": "1e87c13b",
   "metadata": {},
   "outputs": [
    {
     "data": {
      "text/html": [
       "<div>\n",
       "<style scoped>\n",
       "    .dataframe tbody tr th:only-of-type {\n",
       "        vertical-align: middle;\n",
       "    }\n",
       "\n",
       "    .dataframe tbody tr th {\n",
       "        vertical-align: top;\n",
       "    }\n",
       "\n",
       "    .dataframe thead th {\n",
       "        text-align: right;\n",
       "    }\n",
       "</style>\n",
       "<table border=\"1\" class=\"dataframe\">\n",
       "  <thead>\n",
       "    <tr style=\"text-align: right;\">\n",
       "      <th></th>\n",
       "      <th>Date</th>\n",
       "      <th>Close</th>\n",
       "      <th>Predictions</th>\n",
       "    </tr>\n",
       "  </thead>\n",
       "  <tbody>\n",
       "    <tr>\n",
       "      <th>2441</th>\n",
       "      <td>2020-03-11</td>\n",
       "      <td>126.846001</td>\n",
       "      <td>154.496887</td>\n",
       "    </tr>\n",
       "    <tr>\n",
       "      <th>2442</th>\n",
       "      <td>2020-03-12</td>\n",
       "      <td>112.110001</td>\n",
       "      <td>151.786163</td>\n",
       "    </tr>\n",
       "    <tr>\n",
       "      <th>2443</th>\n",
       "      <td>2020-03-13</td>\n",
       "      <td>109.323997</td>\n",
       "      <td>148.774673</td>\n",
       "    </tr>\n",
       "    <tr>\n",
       "      <th>2444</th>\n",
       "      <td>2020-03-16</td>\n",
       "      <td>89.014000</td>\n",
       "      <td>145.442490</td>\n",
       "    </tr>\n",
       "    <tr>\n",
       "      <th>2445</th>\n",
       "      <td>2020-03-17</td>\n",
       "      <td>86.040001</td>\n",
       "      <td>141.591736</td>\n",
       "    </tr>\n",
       "    <tr>\n",
       "      <th>...</th>\n",
       "      <td>...</td>\n",
       "      <td>...</td>\n",
       "      <td>...</td>\n",
       "    </tr>\n",
       "    <tr>\n",
       "      <th>3047</th>\n",
       "      <td>2022-08-05</td>\n",
       "      <td>864.510010</td>\n",
       "      <td>574.428223</td>\n",
       "    </tr>\n",
       "    <tr>\n",
       "      <th>3048</th>\n",
       "      <td>2022-08-08</td>\n",
       "      <td>871.270020</td>\n",
       "      <td>578.295654</td>\n",
       "    </tr>\n",
       "    <tr>\n",
       "      <th>3049</th>\n",
       "      <td>2022-08-09</td>\n",
       "      <td>850.000000</td>\n",
       "      <td>581.823914</td>\n",
       "    </tr>\n",
       "    <tr>\n",
       "      <th>3050</th>\n",
       "      <td>2022-08-10</td>\n",
       "      <td>883.070007</td>\n",
       "      <td>584.844971</td>\n",
       "    </tr>\n",
       "    <tr>\n",
       "      <th>3051</th>\n",
       "      <td>2022-08-11</td>\n",
       "      <td>859.890015</td>\n",
       "      <td>587.361938</td>\n",
       "    </tr>\n",
       "  </tbody>\n",
       "</table>\n",
       "<p>611 rows × 3 columns</p>\n",
       "</div>"
      ],
      "text/plain": [
       "           Date       Close  Predictions\n",
       "2441 2020-03-11  126.846001   154.496887\n",
       "2442 2020-03-12  112.110001   151.786163\n",
       "2443 2020-03-13  109.323997   148.774673\n",
       "2444 2020-03-16   89.014000   145.442490\n",
       "2445 2020-03-17   86.040001   141.591736\n",
       "...         ...         ...          ...\n",
       "3047 2022-08-05  864.510010   574.428223\n",
       "3048 2022-08-08  871.270020   578.295654\n",
       "3049 2022-08-09  850.000000   581.823914\n",
       "3050 2022-08-10  883.070007   584.844971\n",
       "3051 2022-08-11  859.890015   587.361938\n",
       "\n",
       "[611 rows x 3 columns]"
      ]
     },
     "execution_count": 29,
     "metadata": {},
     "output_type": "execute_result"
    }
   ],
   "source": [
    "train=df[['Date', 'Close']][:training_data_len]\n",
    "valid=df[['Date', 'Close']][training_data_len:]\n",
    "valid['Predictions']=predictions\n",
    "valid"
   ]
  },
  {
   "cell_type": "code",
   "execution_count": 30,
   "id": "c592a418",
   "metadata": {},
   "outputs": [
    {
     "data": {
      "image/png": "[encoded data removed]",
      "text/plain": [
       "<Figure size 640x480 with 1 Axes>"
      ]
     },
     "metadata": {},
     "output_type": "display_data"
    }
   ],
   "source": [
    "plt.plot(train['Date'], train['Close'], label='train', color='#ADADAD')\n",
    "plt.plot(valid['Date'], valid['Close'], label='valid', color='#9393FF')\n",
    "plt.plot(valid['Date'], valid['Predictions'], label='prediction', color='#FF7575')\n",
    "plt.legend(loc='upper left')\n",
    "plt.xlabel('Date')\n",
    "plt.ylabel('stock price')\n",
    "plt.show()"
   ]
  },
  {
   "cell_type": "code",
   "execution_count": null,
   "id": "a7eab328",
   "metadata": {},
   "outputs": [],
   "source": []
  }
 ],
 "metadata": {
  "kernelspec": {
   "display_name": "Python 3",
   "language": "python",
   "name": "python3"
  },
  "language_info": {
   "codemirror_mode": {
    "name": "ipython",
    "version": 3
   },
   "file_extension": ".py",
   "mimetype": "text/x-python",
   "name": "python",
   "nbconvert_exporter": "python",
   "pygments_lexer": "ipython3",
   "version": "3.7.9"
  }
 },
 "nbformat": 4,
 "nbformat_minor": 5
}
